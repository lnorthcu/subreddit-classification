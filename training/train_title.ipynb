{
 "cells": [
  {
   "cell_type": "code",
   "execution_count": 14,
   "id": "d35ce5b9-cdb6-4475-888f-24618de910db",
   "metadata": {},
   "outputs": [],
   "source": [
    "import findspark\n",
    "findspark.init()\n",
    "\n",
    "from sparknlp.annotator import *\n",
    "from sparknlp.base import *\n",
    "import sparknlp\n",
    "from pyspark import SparkContext, SparkConf\n",
    "from pyspark.sql import SQLContext, SparkSession\n",
    "from pyspark.sql.functions import udf, col\n",
    "import pyspark.sql.functions as F\n",
    "from pyspark.sql.types import IntegerType, StringType\n",
    "from pyspark.ml import Pipeline\n",
    "from sparknlp.pretrained import PretrainedPipeline\n",
    "\n",
    "\n",
    "\n",
    "import pandas as pd\n",
    "import numpy as np\n",
    "import glob\n",
    "from sklearn.metrics import classification_report, accuracy_score\n",
    "from sklearn.model_selection import train_test_split"
   ]
  },
  {
   "cell_type": "code",
   "execution_count": 2,
   "id": "dbfe124b-2baa-434e-8b64-6fc00b43b0bd",
   "metadata": {},
   "outputs": [
    {
     "data": {
      "text/plain": [
       "'/Users/lilynorthcutt/Documents/subreddit-classification/training'"
      ]
     },
     "execution_count": 2,
     "metadata": {},
     "output_type": "execute_result"
    }
   ],
   "source": [
    "import os\n",
    "os.getcwd()"
   ]
  },
  {
   "cell_type": "code",
   "execution_count": 16,
   "id": "2a06e10d-0c1d-4c50-a121-79d8ee2e5031",
   "metadata": {},
   "outputs": [],
   "source": [
    "# Initialize Spark\n",
    "sparknlp.start()\n",
    "conf = SparkConf().setAppName('subreddit-classification')\n",
    "sc = SparkContext.getOrCreate()\n",
    "spark = SQLContext(sc)"
   ]
  },
  {
   "cell_type": "code",
   "execution_count": 18,
   "id": "b78e5e07-8024-45b1-94e6-b0a7d54dbcef",
   "metadata": {},
   "outputs": [],
   "source": [
    "# Read in subset of data for training\n",
    "df = spark.read.json(\"*.json\", multiLine=True)\n"
   ]
  },
  {
   "cell_type": "code",
   "execution_count": 19,
   "id": "b2691ae7-818e-407d-b89f-e2b201abd84a",
   "metadata": {},
   "outputs": [
    {
     "name": "stdout",
     "output_type": "stream",
     "text": [
      "Cleaned\n"
     ]
    }
   ],
   "source": [
    "# Clean the data\n",
    "df = df.withColumnRenamed('selftext', 'text')\n",
    "\n",
    "df = df.select('subreddit', 'title')\n",
    "\n",
    "df = df.filter(df.title != '[deleted]')\\\n",
    "               .filter(df.title != '[removed]')\\\n",
    "               .filter(df.title != '')\n",
    "\n",
    "print('Cleaned')"
   ]
  },
  {
   "cell_type": "code",
   "execution_count": 20,
   "id": "56a597b6-24c1-409d-a22e-a06ba1d938c3",
   "metadata": {},
   "outputs": [],
   "source": [
    "# Label the data 1 if from r/incel and 0 if not\n",
    "df_incel = df.withColumn(\n",
    "    'label',\n",
    "    F.when((F.col(\"subreddit\") == 'Incels') , '1')\\\n",
    "    .otherwise('0')\n",
    ")"
   ]
  },
  {
   "cell_type": "code",
   "execution_count": 21,
   "id": "d3a437c0-eee8-44b2-a141-688a9a7769ac",
   "metadata": {},
   "outputs": [
    {
     "name": "stdout",
     "output_type": "stream",
     "text": [
      "+-----+-----+\n",
      "|label|count|\n",
      "+-----+-----+\n",
      "|    0| 9997|\n",
      "|    1| 5000|\n",
      "+-----+-----+\n",
      "\n"
     ]
    }
   ],
   "source": [
    "df_incel.groupby(\"label\")\\\n",
    "    .count()\\\n",
    "    .orderBy(col(\"count\").desc()).show()"
   ]
  },
  {
   "cell_type": "code",
   "execution_count": 22,
   "id": "7dffe02b-5a5a-4093-aaf7-abe75f39d120",
   "metadata": {},
   "outputs": [
    {
     "name": "stdout",
     "output_type": "stream",
     "text": [
      "Document Done\n",
      "tfhub_use download started this may take some time.\n",
      "Approximate size to download 923.7 MB\n",
      "[OK!]\n",
      "Use Done\n",
      "Classifierd Done\n",
      "Pipeline Done\n"
     ]
    }
   ],
   "source": [
    "# SparkNLP Pipeline\n",
    "document = DocumentAssembler()\\\n",
    "    .setInputCol(\"title\")\\\n",
    "    .setOutputCol(\"document\")\n",
    "print(\"Document Done\")\n",
    "\n",
    "use = UniversalSentenceEncoder.pretrained()\\\n",
    " .setInputCols([\"document\"])\\\n",
    " .setOutputCol(\"sentence_embeddings\")\n",
    "print(\"Use Done\")\n",
    "\n",
    "classsifierdl = ClassifierDLApproach().setInputCols([\"sentence_embeddings\"])\\\n",
    "    .setOutputCol(\"class\")\\\n",
    "    .setLabelColumn(\"label\")\\\n",
    "    .setMaxEpochs(10)\\\n",
    "    .setEnableOutputLogs(True)\\\n",
    "    .setLr(0.004)\n",
    "print(\"Classifierd Done\")\n",
    "\n",
    "nlpPipeline = Pipeline(       \n",
    "    stages = [\n",
    "        document,\n",
    "        use,\n",
    "        classsifierdl\n",
    "    ])\n",
    "print(\"Pipeline Done\")"
   ]
  },
  {
   "cell_type": "code",
   "execution_count": 23,
   "id": "033db51c-1e8e-4925-8099-edad2a09bbf0",
   "metadata": {},
   "outputs": [],
   "source": [
    "# Split into test and training set\n",
    "(train_set, test_set)= df_incel.randomSplit([0.8, 0.2], seed=100)"
   ]
  },
  {
   "cell_type": "code",
   "execution_count": 24,
   "id": "b28497b8-e540-4dfd-970b-40995b08b774",
   "metadata": {},
   "outputs": [],
   "source": [
    "# Train the model\n",
    "model_incel = nlpPipeline.fit(train_set)"
   ]
  },
  {
   "cell_type": "code",
   "execution_count": 28,
   "id": "7c2b02dc-9619-4720-9f0a-68ee893cf9c9",
   "metadata": {},
   "outputs": [],
   "source": [
    "# Predict Testing Data\n",
    "df_incel= model_incel.transform(test_set).select(\"subreddit\", \"title\",\"label\", \"document\", \"class.result\").toPandas()\n",
    "df_incel[\"result\"] = df_incel[\"result\"].apply(lambda x:x[0])\n"
   ]
  },
  {
   "cell_type": "code",
   "execution_count": 29,
   "id": "efe2c1b5-bad8-4fdd-b977-115c7b419192",
   "metadata": {},
   "outputs": [
    {
     "name": "stdout",
     "output_type": "stream",
     "text": [
      "              precision    recall  f1-score   support\n",
      "\n",
      "           0       0.89      0.94      0.92      1966\n",
      "           1       0.87      0.78      0.82      1013\n",
      "\n",
      "    accuracy                           0.89      2979\n",
      "   macro avg       0.88      0.86      0.87      2979\n",
      "weighted avg       0.89      0.89      0.88      2979\n",
      "\n",
      "0.8865391070829137\n"
     ]
    }
   ],
   "source": [
    "print(classification_report(df_incel[\"label\"], df_incel[\"result\"]))\n",
    "print(accuracy_score(df_incel[\"label\"], df_incel[\"result\"]))"
   ]
  },
  {
   "cell_type": "code",
   "execution_count": 30,
   "id": "29eb0e25-0814-4f90-8a6a-e461f361973c",
   "metadata": {},
   "outputs": [],
   "source": [
    "# Test on a small batch of data "
   ]
  },
  {
   "cell_type": "code",
   "execution_count": 37,
   "id": "fafa1e7d-1a30-43a5-ba21-4af882c88b48",
   "metadata": {},
   "outputs": [],
   "source": [
    "tests = spark.read.json(\"tests/*.json\", multiLine=True)"
   ]
  },
  {
   "cell_type": "code",
   "execution_count": 38,
   "id": "53bebbfb-724c-42b4-9384-5b722887c18c",
   "metadata": {},
   "outputs": [
    {
     "name": "stdout",
     "output_type": "stream",
     "text": [
      "Cleaned\n"
     ]
    }
   ],
   "source": [
    "tests = tests.withColumnRenamed('selftext', 'text')\n",
    "\n",
    "tests = tests.select('subreddit', 'title')\n",
    "\n",
    "tests = tests.filter(tests.title != '[deleted]')\\\n",
    "               .filter(tests.title != '[removed]')\\\n",
    "               .filter(tests.title != '')\n",
    "\n",
    "print('Cleaned')"
   ]
  },
  {
   "cell_type": "code",
   "execution_count": 39,
   "id": "bcacd746-8ed6-4337-abe6-5863eeb20a0d",
   "metadata": {},
   "outputs": [
    {
     "name": "stdout",
     "output_type": "stream",
     "text": [
      "+---------+-----+\n",
      "|subreddit|count|\n",
      "+---------+-----+\n",
      "|Braincels| 1000|\n",
      "|shortcels| 1000|\n",
      "|  Cooking| 1000|\n",
      "+---------+-----+\n",
      "\n"
     ]
    }
   ],
   "source": [
    "tests.groupby(\"subreddit\")\\\n",
    "    .count()\\\n",
    "    .orderBy(col(\"count\").desc()).show()"
   ]
  },
  {
   "cell_type": "code",
   "execution_count": 40,
   "id": "5f22dfb1-5c53-4f04-8df7-e0c2dbaa4cdc",
   "metadata": {},
   "outputs": [],
   "source": [
    "# Predict on the new data\n",
    "df_tests= model_incel.transform(tests).select(\"subreddit\", \"title\", \"class.result\").toPandas()\n",
    "df_tests[\"result\"] = df_tests[\"result\"].apply(lambda x:x[0])\n"
   ]
  },
  {
   "cell_type": "code",
   "execution_count": 41,
   "id": "70fc12d1-72b6-4d94-81ad-c92c2c454587",
   "metadata": {},
   "outputs": [
    {
     "data": {
      "text/plain": [
       "result  subreddit\n",
       "0       Braincels    326\n",
       "        Cooking      988\n",
       "        shortcels    360\n",
       "1       Braincels    674\n",
       "        Cooking       12\n",
       "        shortcels    640\n",
       "dtype: int64"
      ]
     },
     "execution_count": 41,
     "metadata": {},
     "output_type": "execute_result"
    }
   ],
   "source": [
    "# View how each are classified\n",
    "df_tests[[\"subreddit\", \"result\"]].groupby([\"result\", \"subreddit\"])\\\n",
    "    .size()"
   ]
  },
  {
   "cell_type": "code",
   "execution_count": 42,
   "id": "bccc6024-b2f7-4c78-a9e1-cbb01ea2ab80",
   "metadata": {},
   "outputs": [],
   "source": [
    "# Save outputs as csv files\n",
    "df_incel.to_csv(\"outputs/incel_title.csv\")\n",
    "df_tests.to_csv(\"outputs/tests_title.csv\")"
   ]
  },
  {
   "cell_type": "code",
   "execution_count": 1,
   "id": "f2b54578-2d2d-4932-8ad2-fa3053a2bf42",
   "metadata": {},
   "outputs": [
    {
     "ename": "NameError",
     "evalue": "name 'os' is not defined",
     "output_type": "error",
     "traceback": [
      "\u001b[0;31m---------------------------------------------------------------------------\u001b[0m",
      "\u001b[0;31mNameError\u001b[0m                                 Traceback (most recent call last)",
      "\u001b[0;32m<ipython-input-1-a78b1fb2bab9>\u001b[0m in \u001b[0;36m<module>\u001b[0;34m\u001b[0m\n\u001b[0;32m----> 1\u001b[0;31m \u001b[0mos\u001b[0m\u001b[0;34m.\u001b[0m\u001b[0mgetcwd\u001b[0m\u001b[0;34m(\u001b[0m\u001b[0;34m)\u001b[0m\u001b[0;34m\u001b[0m\u001b[0;34m\u001b[0m\u001b[0m\n\u001b[0m",
      "\u001b[0;31mNameError\u001b[0m: name 'os' is not defined"
     ]
    }
   ],
   "source": [
    "os.getcwd()"
   ]
  },
  {
   "cell_type": "code",
   "execution_count": 45,
   "id": "5478f283-3541-454e-b64a-65fed4e2ae16",
   "metadata": {},
   "outputs": [],
   "source": [
    "# Read in all incel posts ever posted to the subreddit\n",
    "fullIncel =  spark.read.json(\"../data/data_incel/incel.json\", multiLine=True)"
   ]
  },
  {
   "cell_type": "code",
   "execution_count": 46,
   "id": "0f356704-74b9-4f7b-8230-976c6b7581c1",
   "metadata": {},
   "outputs": [
    {
     "name": "stdout",
     "output_type": "stream",
     "text": [
      "Cleaned\n"
     ]
    }
   ],
   "source": [
    "fullIncel = fullIncel.withColumnRenamed('selftext', 'text')\n",
    "\n",
    "fullIncel = fullIncel.select('subreddit', 'title')\n",
    "\n",
    "fullIncel = fullIncel.filter(fullIncel.title != '[deleted]')\\\n",
    "               .filter(fullIncel.title != '[removed]')\\\n",
    "               .filter(fullIncel.title != '')\n",
    "\n",
    "print('Cleaned')"
   ]
  },
  {
   "cell_type": "code",
   "execution_count": 47,
   "id": "bc203e65-e3b0-4346-8614-18ca16832099",
   "metadata": {},
   "outputs": [],
   "source": [
    "fullIncel = fullIncel.withColumn(\n",
    "    'label',\n",
    "    F.when((F.col(\"subreddit\") == 'Incels') , '1')\\\n",
    "    .otherwise('0')\n",
    ")"
   ]
  },
  {
   "cell_type": "code",
   "execution_count": 48,
   "id": "0d1bba05-0879-413e-ab3c-190f2b535de9",
   "metadata": {},
   "outputs": [],
   "source": [
    "fullIncel= model_incel.transform(fullIncel).select(\"subreddit\", \"title\",\"label\", \"document\", \"class.result\").toPandas()\n",
    "fullIncel[\"result\"] = fullIncel[\"result\"].apply(lambda x:x[0])\n"
   ]
  },
  {
   "cell_type": "code",
   "execution_count": 49,
   "id": "8afe6470-99f5-48c8-a2b5-6abe2001c71d",
   "metadata": {},
   "outputs": [
    {
     "data": {
      "text/plain": [
       "result\n",
       "0     9450\n",
       "1    38760\n",
       "dtype: int64"
      ]
     },
     "execution_count": 49,
     "metadata": {},
     "output_type": "execute_result"
    }
   ],
   "source": [
    "fullIncel[[\"subreddit\", \"result\"]].groupby([\"result\"])\\\n",
    "    .size()"
   ]
  },
  {
   "cell_type": "code",
   "execution_count": 51,
   "id": "f489136f-642c-4594-a889-b68a42d17ae1",
   "metadata": {},
   "outputs": [
    {
     "data": {
      "text/plain": [
       "0.8039825762289982"
      ]
     },
     "execution_count": 51,
     "metadata": {},
     "output_type": "execute_result"
    }
   ],
   "source": [
    "# Accuracy\n",
    "38760/(9450+38760)"
   ]
  },
  {
   "cell_type": "code",
   "execution_count": 52,
   "id": "96c13a30-6b25-4024-945f-31196930a997",
   "metadata": {},
   "outputs": [
    {
     "data": {
      "text/plain": [
       "'/Users/lilynorthcutt/Documents/subredditCLASSIFICATION/training'"
      ]
     },
     "execution_count": 52,
     "metadata": {},
     "output_type": "execute_result"
    }
   ],
   "source": [
    "os.getcwd()"
   ]
  },
  {
   "cell_type": "code",
   "execution_count": 53,
   "id": "6422be37-8a46-4892-b7f2-ef5d10d37eb9",
   "metadata": {},
   "outputs": [],
   "source": [
    "# Write predictions to text file\n",
    "fullIncel[[\"subreddit\",\"title\",\"label\", \"result\"]].to_csv('outputs/predictions_incel.txt', sep='\\t', index=False)"
   ]
  },
  {
   "cell_type": "code",
   "execution_count": 256,
   "id": "f8790fda-9efd-47cf-a07d-211ed3575a39",
   "metadata": {},
   "outputs": [],
   "source": []
  },
  {
   "cell_type": "code",
   "execution_count": 54,
   "id": "8d3f847e-c80f-4a1e-b07c-2535e161b65e",
   "metadata": {},
   "outputs": [],
   "source": [
    "# Read in 2.5 million rows of subreddit posts\n",
    "other = spark.read.format(\"csv\").option(\"header\", \"true\").load(\"../data/data_other/*.csv\")"
   ]
  },
  {
   "cell_type": "code",
   "execution_count": 55,
   "id": "7628ceec-f565-4da7-90bf-2271c6035fe4",
   "metadata": {},
   "outputs": [
    {
     "name": "stdout",
     "output_type": "stream",
     "text": [
      "Cleaned\n"
     ]
    }
   ],
   "source": [
    "other = other.withColumnRenamed('selftext', 'text')\n",
    "\n",
    "other = other.select('subreddit', 'title')\n",
    "\n",
    "other = other.filter(other.title != '[deleted]')\\\n",
    "               .filter(other.title != '[removed]')\\\n",
    "               .filter(other.title != '')\n",
    "\n",
    "print('Cleaned')"
   ]
  },
  {
   "cell_type": "code",
   "execution_count": 56,
   "id": "fb781343-3957-4404-9197-fbbdc20d9aaf",
   "metadata": {},
   "outputs": [],
   "source": [
    "other = other.withColumn(\n",
    "    'label',\n",
    "    F.when((F.col(\"subreddit\") == 'Incels') , '1')\\\n",
    "    .otherwise('0')\n",
    ")"
   ]
  },
  {
   "cell_type": "code",
   "execution_count": 3,
   "id": "485b573d-b79c-4b51-be0b-a6e4fd6a231c",
   "metadata": {},
   "outputs": [
    {
     "ename": "NameError",
     "evalue": "name 'model_incel' is not defined",
     "output_type": "error",
     "traceback": [
      "\u001b[0;31m---------------------------------------------------------------------------\u001b[0m",
      "\u001b[0;31mNameError\u001b[0m                                 Traceback (most recent call last)",
      "\u001b[0;32m<ipython-input-3-b3cc6c3f294f>\u001b[0m in \u001b[0;36m<module>\u001b[0;34m\u001b[0m\n\u001b[0;32m----> 1\u001b[0;31m \u001b[0mmodel_incel\u001b[0m\u001b[0;34m\u001b[0m\u001b[0;34m\u001b[0m\u001b[0m\n\u001b[0m",
      "\u001b[0;31mNameError\u001b[0m: name 'model_incel' is not defined"
     ]
    }
   ],
   "source": []
  },
  {
   "cell_type": "code",
   "execution_count": null,
   "id": "ba239b11-0fc4-4b2e-a558-bc3edb5aa670",
   "metadata": {
    "collapsed": true,
    "jupyter": {
     "outputs_hidden": true
    },
    "tags": []
   },
   "outputs": [
    {
     "name": "stderr",
     "output_type": "stream",
     "text": [
      "ERROR:root:Internal Python error in the inspect module.\n",
      "Below is the traceback from this internal error.\n",
      "\n"
     ]
    },
    {
     "name": "stdout",
     "output_type": "stream",
     "text": [
      "Traceback (most recent call last):\n",
      "  File \"/Users/lilynorthcutt/opt/anaconda3/lib/python3.8/site-packages/IPython/core/interactiveshell.py\", line 3437, in run_code\n",
      "    exec(code_obj, self.user_global_ns, self.user_ns)\n",
      "  File \"<ipython-input-57-9c197a5f7102>\", line 1, in <module>\n",
      "    other= model_incel.transform(other).select(\"subreddit\", \"title\",\"label\", \"document\", \"class.result\").toPandas()\n",
      "  File \"/usr/local/opt/apache-spark/libexec/python/pyspark/sql/pandas/conversion.py\", line 141, in toPandas\n",
      "    pdf = pd.DataFrame.from_records(self.collect(), columns=self.columns)\n",
      "  File \"/usr/local/opt/apache-spark/libexec/python/pyspark/sql/dataframe.py\", line 677, in collect\n",
      "    sock_info = self._jdf.collectToPython()\n",
      "  File \"/usr/local/opt/apache-spark/libexec/python/lib/py4j-0.10.9-src.zip/py4j/java_gateway.py\", line 1303, in __call__\n",
      "    answer = self.gateway_client.send_command(command)\n",
      "  File \"/usr/local/opt/apache-spark/libexec/python/lib/py4j-0.10.9-src.zip/py4j/java_gateway.py\", line 1033, in send_command\n",
      "    response = connection.send_command(command)\n",
      "  File \"/usr/local/opt/apache-spark/libexec/python/lib/py4j-0.10.9-src.zip/py4j/java_gateway.py\", line 1200, in send_command\n",
      "    answer = smart_decode(self.stream.readline()[:-1])\n",
      "  File \"/Users/lilynorthcutt/opt/anaconda3/lib/python3.8/socket.py\", line 669, in readinto\n",
      "    return self._sock.recv_into(b)\n",
      "KeyboardInterrupt\n",
      "\n",
      "During handling of the above exception, another exception occurred:\n",
      "\n",
      "Traceback (most recent call last):\n",
      "  File \"/Users/lilynorthcutt/opt/anaconda3/lib/python3.8/site-packages/IPython/core/interactiveshell.py\", line 2061, in showtraceback\n",
      "    stb = value._render_traceback_()\n",
      "AttributeError: 'KeyboardInterrupt' object has no attribute '_render_traceback_'\n",
      "\n",
      "During handling of the above exception, another exception occurred:\n",
      "\n",
      "Traceback (most recent call last):\n",
      "  File \"/Users/lilynorthcutt/opt/anaconda3/lib/python3.8/site-packages/IPython/core/ultratb.py\", line 1101, in get_records\n",
      "    return _fixed_getinnerframes(etb, number_of_lines_of_context, tb_offset)\n",
      "  File \"/Users/lilynorthcutt/opt/anaconda3/lib/python3.8/site-packages/IPython/core/ultratb.py\", line 248, in wrapped\n",
      "    return f(*args, **kwargs)\n",
      "  File \"/Users/lilynorthcutt/opt/anaconda3/lib/python3.8/site-packages/IPython/core/ultratb.py\", line 281, in _fixed_getinnerframes\n",
      "    records = fix_frame_records_filenames(inspect.getinnerframes(etb, context))\n",
      "  File \"/Users/lilynorthcutt/opt/anaconda3/lib/python3.8/inspect.py\", line 1515, in getinnerframes\n",
      "    frameinfo = (tb.tb_frame,) + getframeinfo(tb, context)\n",
      "  File \"/Users/lilynorthcutt/opt/anaconda3/lib/python3.8/inspect.py\", line 1473, in getframeinfo\n",
      "    filename = getsourcefile(frame) or getfile(frame)\n",
      "  File \"/Users/lilynorthcutt/opt/anaconda3/lib/python3.8/inspect.py\", line 708, in getsourcefile\n",
      "    if getattr(getmodule(object, filename), '__loader__', None) is not None:\n",
      "  File \"/Users/lilynorthcutt/opt/anaconda3/lib/python3.8/inspect.py\", line 744, in getmodule\n",
      "    for modname, module in sys.modules.copy().items():\n",
      "KeyboardInterrupt\n"
     ]
    },
    {
     "name": "stderr",
     "output_type": "stream",
     "text": [
      "ERROR:root:Internal Python error in the inspect module.\n",
      "Below is the traceback from this internal error.\n",
      "\n"
     ]
    },
    {
     "name": "stdout",
     "output_type": "stream",
     "text": [
      "Traceback (most recent call last):\n",
      "  File \"/Users/lilynorthcutt/opt/anaconda3/lib/python3.8/site-packages/IPython/core/interactiveshell.py\", line 3437, in run_code\n",
      "    exec(code_obj, self.user_global_ns, self.user_ns)\n",
      "  File \"<ipython-input-57-9c197a5f7102>\", line 1, in <module>\n",
      "    other= model_incel.transform(other).select(\"subreddit\", \"title\",\"label\", \"document\", \"class.result\").toPandas()\n",
      "  File \"/usr/local/opt/apache-spark/libexec/python/pyspark/sql/pandas/conversion.py\", line 141, in toPandas\n",
      "    pdf = pd.DataFrame.from_records(self.collect(), columns=self.columns)\n",
      "  File \"/usr/local/opt/apache-spark/libexec/python/pyspark/sql/dataframe.py\", line 677, in collect\n",
      "    sock_info = self._jdf.collectToPython()\n",
      "  File \"/usr/local/opt/apache-spark/libexec/python/lib/py4j-0.10.9-src.zip/py4j/java_gateway.py\", line 1303, in __call__\n",
      "    answer = self.gateway_client.send_command(command)\n",
      "  File \"/usr/local/opt/apache-spark/libexec/python/lib/py4j-0.10.9-src.zip/py4j/java_gateway.py\", line 1033, in send_command\n",
      "    response = connection.send_command(command)\n",
      "  File \"/usr/local/opt/apache-spark/libexec/python/lib/py4j-0.10.9-src.zip/py4j/java_gateway.py\", line 1200, in send_command\n",
      "    answer = smart_decode(self.stream.readline()[:-1])\n",
      "  File \"/Users/lilynorthcutt/opt/anaconda3/lib/python3.8/socket.py\", line 669, in readinto\n",
      "    return self._sock.recv_into(b)\n",
      "KeyboardInterrupt\n",
      "\n",
      "During handling of the above exception, another exception occurred:\n",
      "\n",
      "Traceback (most recent call last):\n",
      "  File \"/Users/lilynorthcutt/opt/anaconda3/lib/python3.8/site-packages/IPython/core/interactiveshell.py\", line 2061, in showtraceback\n",
      "    stb = value._render_traceback_()\n",
      "AttributeError: 'KeyboardInterrupt' object has no attribute '_render_traceback_'\n",
      "\n",
      "During handling of the above exception, another exception occurred:\n",
      "\n",
      "Traceback (most recent call last):\n",
      "  File \"/Users/lilynorthcutt/opt/anaconda3/lib/python3.8/site-packages/IPython/core/interactiveshell.py\", line 3357, in run_ast_nodes\n",
      "    if (await self.run_code(code, result,  async_=asy)):\n",
      "  File \"/Users/lilynorthcutt/opt/anaconda3/lib/python3.8/site-packages/IPython/core/interactiveshell.py\", line 3454, in run_code\n",
      "    self.showtraceback(running_compiled_code=True)\n",
      "  File \"/Users/lilynorthcutt/opt/anaconda3/lib/python3.8/site-packages/IPython/core/interactiveshell.py\", line 2063, in showtraceback\n",
      "    stb = self.InteractiveTB.structured_traceback(etype,\n",
      "  File \"/Users/lilynorthcutt/opt/anaconda3/lib/python3.8/site-packages/IPython/core/ultratb.py\", line 1367, in structured_traceback\n",
      "    return FormattedTB.structured_traceback(\n",
      "  File \"/Users/lilynorthcutt/opt/anaconda3/lib/python3.8/site-packages/IPython/core/ultratb.py\", line 1267, in structured_traceback\n",
      "    return VerboseTB.structured_traceback(\n",
      "  File \"/Users/lilynorthcutt/opt/anaconda3/lib/python3.8/site-packages/IPython/core/ultratb.py\", line 1124, in structured_traceback\n",
      "    formatted_exception = self.format_exception_as_a_whole(etype, evalue, etb, number_of_lines_of_context,\n",
      "  File \"/Users/lilynorthcutt/opt/anaconda3/lib/python3.8/site-packages/IPython/core/ultratb.py\", line 1082, in format_exception_as_a_whole\n",
      "    last_unique, recursion_repeat = find_recursion(orig_etype, evalue, records)\n",
      "  File \"/Users/lilynorthcutt/opt/anaconda3/lib/python3.8/site-packages/IPython/core/ultratb.py\", line 382, in find_recursion\n",
      "    return len(records), 0\n",
      "TypeError: object of type 'NoneType' has no len()\n",
      "\n",
      "During handling of the above exception, another exception occurred:\n",
      "\n",
      "Traceback (most recent call last):\n",
      "  File \"/Users/lilynorthcutt/opt/anaconda3/lib/python3.8/site-packages/IPython/core/interactiveshell.py\", line 2061, in showtraceback\n",
      "    stb = value._render_traceback_()\n",
      "AttributeError: 'TypeError' object has no attribute '_render_traceback_'\n",
      "\n",
      "During handling of the above exception, another exception occurred:\n",
      "\n",
      "Traceback (most recent call last):\n",
      "  File \"/Users/lilynorthcutt/opt/anaconda3/lib/python3.8/site-packages/IPython/core/ultratb.py\", line 1101, in get_records\n",
      "    return _fixed_getinnerframes(etb, number_of_lines_of_context, tb_offset)\n",
      "  File \"/Users/lilynorthcutt/opt/anaconda3/lib/python3.8/site-packages/IPython/core/ultratb.py\", line 248, in wrapped\n",
      "    return f(*args, **kwargs)\n",
      "  File \"/Users/lilynorthcutt/opt/anaconda3/lib/python3.8/site-packages/IPython/core/ultratb.py\", line 281, in _fixed_getinnerframes\n",
      "    records = fix_frame_records_filenames(inspect.getinnerframes(etb, context))\n",
      "  File \"/Users/lilynorthcutt/opt/anaconda3/lib/python3.8/inspect.py\", line 1515, in getinnerframes\n",
      "    frameinfo = (tb.tb_frame,) + getframeinfo(tb, context)\n",
      "  File \"/Users/lilynorthcutt/opt/anaconda3/lib/python3.8/inspect.py\", line 1473, in getframeinfo\n",
      "    filename = getsourcefile(frame) or getfile(frame)\n",
      "  File \"/Users/lilynorthcutt/opt/anaconda3/lib/python3.8/inspect.py\", line 708, in getsourcefile\n",
      "    if getattr(getmodule(object, filename), '__loader__', None) is not None:\n",
      "  File \"/Users/lilynorthcutt/opt/anaconda3/lib/python3.8/inspect.py\", line 745, in getmodule\n",
      "    if ismodule(module) and hasattr(module, '__file__'):\n",
      "KeyboardInterrupt\n"
     ]
    },
    {
     "name": "stderr",
     "output_type": "stream",
     "text": [
      "ERROR:root:Internal Python error in the inspect module.\n",
      "Below is the traceback from this internal error.\n",
      "\n"
     ]
    },
    {
     "name": "stdout",
     "output_type": "stream",
     "text": [
      "Traceback (most recent call last):\n",
      "  File \"/Users/lilynorthcutt/opt/anaconda3/lib/python3.8/site-packages/IPython/core/interactiveshell.py\", line 3437, in run_code\n",
      "    exec(code_obj, self.user_global_ns, self.user_ns)\n",
      "  File \"<ipython-input-57-9c197a5f7102>\", line 1, in <module>\n",
      "    other= model_incel.transform(other).select(\"subreddit\", \"title\",\"label\", \"document\", \"class.result\").toPandas()\n",
      "  File \"/usr/local/opt/apache-spark/libexec/python/pyspark/sql/pandas/conversion.py\", line 141, in toPandas\n",
      "    pdf = pd.DataFrame.from_records(self.collect(), columns=self.columns)\n",
      "  File \"/usr/local/opt/apache-spark/libexec/python/pyspark/sql/dataframe.py\", line 677, in collect\n",
      "    sock_info = self._jdf.collectToPython()\n",
      "  File \"/usr/local/opt/apache-spark/libexec/python/lib/py4j-0.10.9-src.zip/py4j/java_gateway.py\", line 1303, in __call__\n",
      "    answer = self.gateway_client.send_command(command)\n",
      "  File \"/usr/local/opt/apache-spark/libexec/python/lib/py4j-0.10.9-src.zip/py4j/java_gateway.py\", line 1033, in send_command\n",
      "    response = connection.send_command(command)\n",
      "  File \"/usr/local/opt/apache-spark/libexec/python/lib/py4j-0.10.9-src.zip/py4j/java_gateway.py\", line 1200, in send_command\n",
      "    answer = smart_decode(self.stream.readline()[:-1])\n",
      "  File \"/Users/lilynorthcutt/opt/anaconda3/lib/python3.8/socket.py\", line 669, in readinto\n",
      "    return self._sock.recv_into(b)\n",
      "KeyboardInterrupt\n",
      "\n",
      "During handling of the above exception, another exception occurred:\n",
      "\n",
      "Traceback (most recent call last):\n",
      "  File \"/Users/lilynorthcutt/opt/anaconda3/lib/python3.8/site-packages/IPython/core/interactiveshell.py\", line 2061, in showtraceback\n",
      "    stb = value._render_traceback_()\n",
      "AttributeError: 'KeyboardInterrupt' object has no attribute '_render_traceback_'\n",
      "\n",
      "During handling of the above exception, another exception occurred:\n",
      "\n",
      "Traceback (most recent call last):\n",
      "  File \"/Users/lilynorthcutt/opt/anaconda3/lib/python3.8/site-packages/IPython/core/interactiveshell.py\", line 3357, in run_ast_nodes\n",
      "    if (await self.run_code(code, result,  async_=asy)):\n",
      "  File \"/Users/lilynorthcutt/opt/anaconda3/lib/python3.8/site-packages/IPython/core/interactiveshell.py\", line 3454, in run_code\n",
      "    self.showtraceback(running_compiled_code=True)\n",
      "  File \"/Users/lilynorthcutt/opt/anaconda3/lib/python3.8/site-packages/IPython/core/interactiveshell.py\", line 2063, in showtraceback\n",
      "    stb = self.InteractiveTB.structured_traceback(etype,\n",
      "  File \"/Users/lilynorthcutt/opt/anaconda3/lib/python3.8/site-packages/IPython/core/ultratb.py\", line 1367, in structured_traceback\n",
      "    return FormattedTB.structured_traceback(\n",
      "  File \"/Users/lilynorthcutt/opt/anaconda3/lib/python3.8/site-packages/IPython/core/ultratb.py\", line 1267, in structured_traceback\n",
      "    return VerboseTB.structured_traceback(\n",
      "  File \"/Users/lilynorthcutt/opt/anaconda3/lib/python3.8/site-packages/IPython/core/ultratb.py\", line 1124, in structured_traceback\n",
      "    formatted_exception = self.format_exception_as_a_whole(etype, evalue, etb, number_of_lines_of_context,\n",
      "  File \"/Users/lilynorthcutt/opt/anaconda3/lib/python3.8/site-packages/IPython/core/ultratb.py\", line 1082, in format_exception_as_a_whole\n",
      "    last_unique, recursion_repeat = find_recursion(orig_etype, evalue, records)\n",
      "  File \"/Users/lilynorthcutt/opt/anaconda3/lib/python3.8/site-packages/IPython/core/ultratb.py\", line 382, in find_recursion\n",
      "    return len(records), 0\n",
      "TypeError: object of type 'NoneType' has no len()\n",
      "\n",
      "During handling of the above exception, another exception occurred:\n",
      "\n",
      "Traceback (most recent call last):\n",
      "  File \"/Users/lilynorthcutt/opt/anaconda3/lib/python3.8/site-packages/IPython/core/interactiveshell.py\", line 2061, in showtraceback\n",
      "    stb = value._render_traceback_()\n",
      "AttributeError: 'TypeError' object has no attribute '_render_traceback_'\n",
      "\n",
      "During handling of the above exception, another exception occurred:\n",
      "\n",
      "Traceback (most recent call last):\n",
      "  File \"/Users/lilynorthcutt/opt/anaconda3/lib/python3.8/site-packages/IPython/core/interactiveshell.py\", line 2940, in _run_cell\n",
      "    return runner(coro)\n",
      "  File \"/Users/lilynorthcutt/opt/anaconda3/lib/python3.8/site-packages/IPython/core/async_helpers.py\", line 68, in _pseudo_sync_runner\n",
      "    coro.send(None)\n",
      "  File \"/Users/lilynorthcutt/opt/anaconda3/lib/python3.8/site-packages/IPython/core/interactiveshell.py\", line 3165, in run_cell_async\n",
      "    has_raised = await self.run_ast_nodes(code_ast.body, cell_name,\n",
      "  File \"/Users/lilynorthcutt/opt/anaconda3/lib/python3.8/site-packages/IPython/core/interactiveshell.py\", line 3376, in run_ast_nodes\n",
      "    self.showtraceback()\n",
      "  File \"/Users/lilynorthcutt/opt/anaconda3/lib/python3.8/site-packages/IPython/core/interactiveshell.py\", line 2063, in showtraceback\n",
      "    stb = self.InteractiveTB.structured_traceback(etype,\n",
      "  File \"/Users/lilynorthcutt/opt/anaconda3/lib/python3.8/site-packages/IPython/core/ultratb.py\", line 1367, in structured_traceback\n",
      "    return FormattedTB.structured_traceback(\n",
      "  File \"/Users/lilynorthcutt/opt/anaconda3/lib/python3.8/site-packages/IPython/core/ultratb.py\", line 1267, in structured_traceback\n",
      "    return VerboseTB.structured_traceback(\n",
      "  File \"/Users/lilynorthcutt/opt/anaconda3/lib/python3.8/site-packages/IPython/core/ultratb.py\", line 1142, in structured_traceback\n",
      "    formatted_exceptions += self.format_exception_as_a_whole(etype, evalue, etb, lines_of_context,\n",
      "  File \"/Users/lilynorthcutt/opt/anaconda3/lib/python3.8/site-packages/IPython/core/ultratb.py\", line 1082, in format_exception_as_a_whole\n",
      "    last_unique, recursion_repeat = find_recursion(orig_etype, evalue, records)\n",
      "  File \"/Users/lilynorthcutt/opt/anaconda3/lib/python3.8/site-packages/IPython/core/ultratb.py\", line 382, in find_recursion\n",
      "    return len(records), 0\n",
      "TypeError: object of type 'NoneType' has no len()\n",
      "\n",
      "During handling of the above exception, another exception occurred:\n",
      "\n",
      "Traceback (most recent call last):\n",
      "  File \"/Users/lilynorthcutt/opt/anaconda3/lib/python3.8/site-packages/IPython/core/interactiveshell.py\", line 2061, in showtraceback\n",
      "    stb = value._render_traceback_()\n",
      "AttributeError: 'TypeError' object has no attribute '_render_traceback_'\n",
      "\n",
      "During handling of the above exception, another exception occurred:\n",
      "\n",
      "Traceback (most recent call last):\n",
      "  File \"/Users/lilynorthcutt/opt/anaconda3/lib/python3.8/site-packages/IPython/core/ultratb.py\", line 1101, in get_records\n",
      "    return _fixed_getinnerframes(etb, number_of_lines_of_context, tb_offset)\n",
      "  File \"/Users/lilynorthcutt/opt/anaconda3/lib/python3.8/site-packages/IPython/core/ultratb.py\", line 248, in wrapped\n",
      "    return f(*args, **kwargs)\n",
      "  File \"/Users/lilynorthcutt/opt/anaconda3/lib/python3.8/site-packages/IPython/core/ultratb.py\", line 281, in _fixed_getinnerframes\n",
      "    records = fix_frame_records_filenames(inspect.getinnerframes(etb, context))\n",
      "  File \"/Users/lilynorthcutt/opt/anaconda3/lib/python3.8/inspect.py\", line 1515, in getinnerframes\n",
      "    frameinfo = (tb.tb_frame,) + getframeinfo(tb, context)\n",
      "  File \"/Users/lilynorthcutt/opt/anaconda3/lib/python3.8/inspect.py\", line 1473, in getframeinfo\n",
      "    filename = getsourcefile(frame) or getfile(frame)\n",
      "  File \"/Users/lilynorthcutt/opt/anaconda3/lib/python3.8/inspect.py\", line 708, in getsourcefile\n",
      "    if getattr(getmodule(object, filename), '__loader__', None) is not None:\n",
      "  File \"/Users/lilynorthcutt/opt/anaconda3/lib/python3.8/inspect.py\", line 745, in getmodule\n",
      "    if ismodule(module) and hasattr(module, '__file__'):\n",
      "KeyboardInterrupt\n"
     ]
    },
    {
     "name": "stderr",
     "output_type": "stream",
     "text": [
      "ERROR:asyncio:Future exception was never retrieved\n",
      "future: <Future finished exception=TypeError(\"object of type 'NoneType' has no len()\")>\n",
      "Traceback (most recent call last):\n",
      "  File \"/Users/lilynorthcutt/opt/anaconda3/lib/python3.8/site-packages/IPython/core/interactiveshell.py\", line 3437, in run_code\n",
      "    exec(code_obj, self.user_global_ns, self.user_ns)\n",
      "  File \"<ipython-input-57-9c197a5f7102>\", line 1, in <module>\n",
      "    other= model_incel.transform(other).select(\"subreddit\", \"title\",\"label\", \"document\", \"class.result\").toPandas()\n",
      "  File \"/usr/local/opt/apache-spark/libexec/python/pyspark/sql/pandas/conversion.py\", line 141, in toPandas\n",
      "    pdf = pd.DataFrame.from_records(self.collect(), columns=self.columns)\n",
      "  File \"/usr/local/opt/apache-spark/libexec/python/pyspark/sql/dataframe.py\", line 677, in collect\n",
      "    sock_info = self._jdf.collectToPython()\n",
      "  File \"/usr/local/opt/apache-spark/libexec/python/lib/py4j-0.10.9-src.zip/py4j/java_gateway.py\", line 1303, in __call__\n",
      "    answer = self.gateway_client.send_command(command)\n",
      "  File \"/usr/local/opt/apache-spark/libexec/python/lib/py4j-0.10.9-src.zip/py4j/java_gateway.py\", line 1033, in send_command\n",
      "    response = connection.send_command(command)\n",
      "  File \"/usr/local/opt/apache-spark/libexec/python/lib/py4j-0.10.9-src.zip/py4j/java_gateway.py\", line 1200, in send_command\n",
      "    answer = smart_decode(self.stream.readline()[:-1])\n",
      "  File \"/Users/lilynorthcutt/opt/anaconda3/lib/python3.8/socket.py\", line 669, in readinto\n",
      "    return self._sock.recv_into(b)\n",
      "KeyboardInterrupt\n",
      "\n",
      "During handling of the above exception, another exception occurred:\n",
      "\n",
      "Traceback (most recent call last):\n",
      "  File \"/Users/lilynorthcutt/opt/anaconda3/lib/python3.8/site-packages/IPython/core/interactiveshell.py\", line 2061, in showtraceback\n",
      "    stb = value._render_traceback_()\n",
      "AttributeError: 'KeyboardInterrupt' object has no attribute '_render_traceback_'\n",
      "\n",
      "During handling of the above exception, another exception occurred:\n",
      "\n",
      "Traceback (most recent call last):\n",
      "  File \"/Users/lilynorthcutt/opt/anaconda3/lib/python3.8/site-packages/IPython/core/interactiveshell.py\", line 3357, in run_ast_nodes\n",
      "    if (await self.run_code(code, result,  async_=asy)):\n",
      "  File \"/Users/lilynorthcutt/opt/anaconda3/lib/python3.8/site-packages/IPython/core/interactiveshell.py\", line 3454, in run_code\n",
      "    self.showtraceback(running_compiled_code=True)\n",
      "  File \"/Users/lilynorthcutt/opt/anaconda3/lib/python3.8/site-packages/IPython/core/interactiveshell.py\", line 2063, in showtraceback\n",
      "    stb = self.InteractiveTB.structured_traceback(etype,\n",
      "  File \"/Users/lilynorthcutt/opt/anaconda3/lib/python3.8/site-packages/IPython/core/ultratb.py\", line 1367, in structured_traceback\n",
      "    return FormattedTB.structured_traceback(\n",
      "  File \"/Users/lilynorthcutt/opt/anaconda3/lib/python3.8/site-packages/IPython/core/ultratb.py\", line 1267, in structured_traceback\n",
      "    return VerboseTB.structured_traceback(\n",
      "  File \"/Users/lilynorthcutt/opt/anaconda3/lib/python3.8/site-packages/IPython/core/ultratb.py\", line 1124, in structured_traceback\n",
      "    formatted_exception = self.format_exception_as_a_whole(etype, evalue, etb, number_of_lines_of_context,\n",
      "  File \"/Users/lilynorthcutt/opt/anaconda3/lib/python3.8/site-packages/IPython/core/ultratb.py\", line 1082, in format_exception_as_a_whole\n",
      "    last_unique, recursion_repeat = find_recursion(orig_etype, evalue, records)\n",
      "  File \"/Users/lilynorthcutt/opt/anaconda3/lib/python3.8/site-packages/IPython/core/ultratb.py\", line 382, in find_recursion\n",
      "    return len(records), 0\n",
      "TypeError: object of type 'NoneType' has no len()\n",
      "\n",
      "During handling of the above exception, another exception occurred:\n",
      "\n",
      "Traceback (most recent call last):\n",
      "  File \"/Users/lilynorthcutt/opt/anaconda3/lib/python3.8/site-packages/IPython/core/interactiveshell.py\", line 2061, in showtraceback\n",
      "    stb = value._render_traceback_()\n",
      "AttributeError: 'TypeError' object has no attribute '_render_traceback_'\n",
      "\n",
      "During handling of the above exception, another exception occurred:\n",
      "\n",
      "Traceback (most recent call last):\n",
      "  File \"/Users/lilynorthcutt/opt/anaconda3/lib/python3.8/site-packages/IPython/core/interactiveshell.py\", line 2940, in _run_cell\n",
      "    return runner(coro)\n",
      "  File \"/Users/lilynorthcutt/opt/anaconda3/lib/python3.8/site-packages/IPython/core/async_helpers.py\", line 68, in _pseudo_sync_runner\n",
      "    coro.send(None)\n",
      "  File \"/Users/lilynorthcutt/opt/anaconda3/lib/python3.8/site-packages/IPython/core/interactiveshell.py\", line 3165, in run_cell_async\n",
      "    has_raised = await self.run_ast_nodes(code_ast.body, cell_name,\n",
      "  File \"/Users/lilynorthcutt/opt/anaconda3/lib/python3.8/site-packages/IPython/core/interactiveshell.py\", line 3376, in run_ast_nodes\n",
      "    self.showtraceback()\n",
      "  File \"/Users/lilynorthcutt/opt/anaconda3/lib/python3.8/site-packages/IPython/core/interactiveshell.py\", line 2063, in showtraceback\n",
      "    stb = self.InteractiveTB.structured_traceback(etype,\n",
      "  File \"/Users/lilynorthcutt/opt/anaconda3/lib/python3.8/site-packages/IPython/core/ultratb.py\", line 1367, in structured_traceback\n",
      "    return FormattedTB.structured_traceback(\n",
      "  File \"/Users/lilynorthcutt/opt/anaconda3/lib/python3.8/site-packages/IPython/core/ultratb.py\", line 1267, in structured_traceback\n",
      "    return VerboseTB.structured_traceback(\n",
      "  File \"/Users/lilynorthcutt/opt/anaconda3/lib/python3.8/site-packages/IPython/core/ultratb.py\", line 1142, in structured_traceback\n",
      "    formatted_exceptions += self.format_exception_as_a_whole(etype, evalue, etb, lines_of_context,\n",
      "  File \"/Users/lilynorthcutt/opt/anaconda3/lib/python3.8/site-packages/IPython/core/ultratb.py\", line 1082, in format_exception_as_a_whole\n",
      "    last_unique, recursion_repeat = find_recursion(orig_etype, evalue, records)\n",
      "  File \"/Users/lilynorthcutt/opt/anaconda3/lib/python3.8/site-packages/IPython/core/ultratb.py\", line 382, in find_recursion\n",
      "    return len(records), 0\n",
      "TypeError: object of type 'NoneType' has no len()\n",
      "\n",
      "During handling of the above exception, another exception occurred:\n",
      "\n",
      "Traceback (most recent call last):\n",
      "  File \"/Users/lilynorthcutt/opt/anaconda3/lib/python3.8/site-packages/IPython/core/interactiveshell.py\", line 2061, in showtraceback\n",
      "    stb = value._render_traceback_()\n",
      "AttributeError: 'TypeError' object has no attribute '_render_traceback_'\n",
      "\n",
      "During handling of the above exception, another exception occurred:\n",
      "\n",
      "Traceback (most recent call last):\n",
      "  File \"/Users/lilynorthcutt/opt/anaconda3/lib/python3.8/site-packages/tornado/gen.py\", line 234, in wrapper\n",
      "    yielded = ctx_run(next, result)\n",
      "  File \"/Users/lilynorthcutt/opt/anaconda3/lib/python3.8/site-packages/ipykernel/ipkernel.py\", line 306, in do_execute\n",
      "    res = shell.run_cell(code, store_history=store_history, silent=silent)\n",
      "  File \"/Users/lilynorthcutt/opt/anaconda3/lib/python3.8/site-packages/ipykernel/zmqshell.py\", line 536, in run_cell\n",
      "    return super(ZMQInteractiveShell, self).run_cell(*args, **kwargs)\n",
      "  File \"/Users/lilynorthcutt/opt/anaconda3/lib/python3.8/site-packages/IPython/core/interactiveshell.py\", line 2894, in run_cell\n",
      "    result = self._run_cell(\n",
      "  File \"/Users/lilynorthcutt/opt/anaconda3/lib/python3.8/site-packages/IPython/core/interactiveshell.py\", line 2945, in _run_cell\n",
      "    self.showtraceback(running_compiled_code=True)\n",
      "  File \"/Users/lilynorthcutt/opt/anaconda3/lib/python3.8/site-packages/IPython/core/interactiveshell.py\", line 2063, in showtraceback\n",
      "    stb = self.InteractiveTB.structured_traceback(etype,\n",
      "  File \"/Users/lilynorthcutt/opt/anaconda3/lib/python3.8/site-packages/IPython/core/ultratb.py\", line 1367, in structured_traceback\n",
      "    return FormattedTB.structured_traceback(\n",
      "  File \"/Users/lilynorthcutt/opt/anaconda3/lib/python3.8/site-packages/IPython/core/ultratb.py\", line 1267, in structured_traceback\n",
      "    return VerboseTB.structured_traceback(\n",
      "  File \"/Users/lilynorthcutt/opt/anaconda3/lib/python3.8/site-packages/IPython/core/ultratb.py\", line 1142, in structured_traceback\n",
      "    formatted_exceptions += self.format_exception_as_a_whole(etype, evalue, etb, lines_of_context,\n",
      "  File \"/Users/lilynorthcutt/opt/anaconda3/lib/python3.8/site-packages/IPython/core/ultratb.py\", line 1082, in format_exception_as_a_whole\n",
      "    last_unique, recursion_repeat = find_recursion(orig_etype, evalue, records)\n",
      "  File \"/Users/lilynorthcutt/opt/anaconda3/lib/python3.8/site-packages/IPython/core/ultratb.py\", line 382, in find_recursion\n",
      "    return len(records), 0\n",
      "TypeError: object of type 'NoneType' has no len()\n"
     ]
    }
   ],
   "source": [
    "other= model_incel.transform(other).select(\"subreddit\", \"title\",\"label\", \"document\", \"class.result\").toPandas()\n",
    "other[\"result\"] = other[\"result\"].apply(lambda x:x[0])"
   ]
  },
  {
   "cell_type": "code",
   "execution_count": null,
   "id": "e45ecb3b-8096-4c75-9a08-ec275a244b0a",
   "metadata": {},
   "outputs": [],
   "source": [
    "other[[\"subreddit\",\"title\",\"label\", \"result\"]].to_csv('outputs/predictions_other.txt', sep='\\t', index=False)"
   ]
  },
  {
   "cell_type": "code",
   "execution_count": null,
   "id": "8c90c608-6052-4b13-9f43-8425c3ca6bbf",
   "metadata": {},
   "outputs": [],
   "source": [
    "other[[\"subreddit\", \"result\"]].groupby([\"result\"])\\\n",
    "    .size()"
   ]
  },
  {
   "cell_type": "code",
   "execution_count": 278,
   "id": "e3c0191b-52d7-451e-b05a-2dbb3de20cd1",
   "metadata": {},
   "outputs": [
    {
     "data": {
      "text/plain": [
       "0.8154109088848052"
      ]
     },
     "execution_count": 278,
     "metadata": {},
     "output_type": "execute_result"
    }
   ],
   "source": [
    "(2204858+39448)/(499294+2204858+8762+39448)"
   ]
  },
  {
   "cell_type": "code",
   "execution_count": 4,
   "id": "f109c3e9-f9e9-4866-83f3-f8fedbafeb25",
   "metadata": {},
   "outputs": [
    {
     "name": "stdout",
     "output_type": "stream",
     "text": [
      "Txt file 1 read\n",
      "Txt file 2 read\n",
      "Txt merged\n",
      "Done\n"
     ]
    }
   ],
   "source": [
    "with open('outputs/predictions_other.txt') as f:\n",
    "    data_other = f.read()\n",
    "    \n",
    "print(\"Txt file 1 read\")\n",
    "    \n",
    "with open('outputs/predictions_incel.txt') as f:\n",
    "    data_incel = f.read()\n",
    "print(\"Txt file 2 read\")\n",
    "\n",
    "data_other += \"\\n\"\n",
    "data_other += data_incel\n",
    "print(\"Txt merged\")\n",
    "\n",
    "\n",
    "with open ('predictions.txt', 'w') as fp:\n",
    "    fp.write(data_other)\n",
    "print(\"Done\")"
   ]
  },
  {
   "cell_type": "code",
   "execution_count": null,
   "id": "db8321cd-8f7b-49c1-9e49-a5cd0a7662fd",
   "metadata": {},
   "outputs": [],
   "source": []
  }
 ],
 "metadata": {
  "kernelspec": {
   "display_name": "Python 3",
   "language": "python",
   "name": "python3"
  },
  "language_info": {
   "codemirror_mode": {
    "name": "ipython",
    "version": 3
   },
   "file_extension": ".py",
   "mimetype": "text/x-python",
   "name": "python",
   "nbconvert_exporter": "python",
   "pygments_lexer": "ipython3",
   "version": "3.8.8"
  }
 },
 "nbformat": 4,
 "nbformat_minor": 5
}
