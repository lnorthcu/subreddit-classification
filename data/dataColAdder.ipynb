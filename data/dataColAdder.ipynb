{
 "cells": [
  {
   "cell_type": "code",
   "execution_count": 2,
   "id": "31139296-2f86-4aae-a6f9-df88a5d99caa",
   "metadata": {},
   "outputs": [],
   "source": [
    "import pandas as pd\n",
    "import glob\n",
    "import os"
   ]
  },
  {
   "cell_type": "code",
   "execution_count": 3,
   "id": "13f9e915-9e98-4bcb-8889-d77e2ac987d3",
   "metadata": {},
   "outputs": [],
   "source": [
    "# Navigate to data folder\n",
    "os.chdir('data')\n",
    "path = os.getcwd()"
   ]
  },
  {
   "cell_type": "code",
   "execution_count": 3,
   "id": "698aecb1-852f-457d-95e2-8cf4db6a6a61",
   "metadata": {},
   "outputs": [],
   "source": [
    "# Create a list of all subreddit data\n",
    "csvList = glob.glob(\"*.csv\")"
   ]
  },
  {
   "cell_type": "code",
   "execution_count": 5,
   "id": "5d63c0e9-12a1-499a-9e37-b26916228de8",
   "metadata": {},
   "outputs": [
    {
     "name": "stdout",
     "output_type": "stream",
     "text": [
      ".ipynb_checkpoints\n",
      ".UnsentLetters.csv.icloud\n",
      ".TrueFilm.csv.icloud\n",
      ".relationship_advice.csv.icloud\n",
      ".pettyrevenge.csv.icloud\n",
      ".relationships.csv.icloud\n",
      ".ihaveissues.csv.icloud\n"
     ]
    }
   ],
   "source": [
    "for filename in os.listdir(path):\n",
    "    if filename not in csvList:\n",
    "        print(filename)"
   ]
  },
  {
   "cell_type": "code",
   "execution_count": 14,
   "id": "773e2c4a-1c88-49c7-b731-b8c45581ea3e",
   "metadata": {},
   "outputs": [],
   "source": [
    "# For every csv file (each named after the subreddit)\n",
    "# add a column called subreddt that appends the subreddit\n",
    "for csv in csvList:\n",
    "    sub = pd.read_csv(csv)\n",
    "    sub['subreddit'] = csv[:-4]\n",
    "    sub.to_csv(csv)"
   ]
  }
 ],
 "metadata": {
  "kernelspec": {
   "display_name": "Python 3",
   "language": "python",
   "name": "python3"
  },
  "language_info": {
   "codemirror_mode": {
    "name": "ipython",
    "version": 3
   },
   "file_extension": ".py",
   "mimetype": "text/x-python",
   "name": "python",
   "nbconvert_exporter": "python",
   "pygments_lexer": "ipython3",
   "version": "3.8.8"
  }
 },
 "nbformat": 4,
 "nbformat_minor": 5
}
